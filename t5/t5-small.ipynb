{
  "cells": [
    {
      "cell_type": "markdown",
      "metadata": {
        "id": "iInmtCO4x3Br"
      },
      "source": [
        "# Train a Small LLM"
      ]
    },
    {
      "cell_type": "markdown",
      "metadata": {
        "id": "6oK6RQXS6wCB"
      },
      "source": [
        "# Install Libraries"
      ]
    },
    {
      "cell_type": "code",
      "execution_count": 1,
      "metadata": {
        "colab": {
          "base_uri": "https://localhost:8080/"
        },
        "id": "5w5UCM957BRE",
        "outputId": "7df3600d-2a63-4b05-8303-98cec1e394dd",
        "vscode": {
          "languageId": "shellscript"
        }
      },
      "outputs": [],
      "source": [
        "!pip3 install -q trl peft torch tiktoken datasets transformers textwrap3 matplotlib sentencepiece"
      ]
    },
    {
      "cell_type": "markdown",
      "metadata": {
        "id": "9BOeFOEC7OdM"
      },
      "source": [
        "# Import Libraries"
      ]
    },
    {
      "cell_type": "code",
      "execution_count": 2,
      "metadata": {
        "id": "zKwsQFLs6yra"
      },
      "outputs": [
        {
          "name": "stderr",
          "output_type": "stream",
          "text": [
            "/opt/homebrew/lib/python3.11/site-packages/trl/trainer/ppo_config.py:141: UserWarning: The `optimize_cuda_cache` arguement will be deprecated soon, please use `optimize_device_cache` instead.\n",
            "  warnings.warn(\n"
          ]
        }
      ],
      "source": [
        "import torch\n",
        "from trl import SFTTrainer\n",
        "from datasets import load_dataset\n",
        "from peft import LoraConfig, get_peft_model, prepare_model_for_int8_training\n",
        "from transformers import T5Tokenizer, T5ForConditionalGeneration, AdamW"
      ]
    },
    {
      "cell_type": "markdown",
      "metadata": {
        "id": "JntZ3Mo894Dt"
      },
      "source": [
        "# Dataset Exploration"
      ]
    },
    {
      "cell_type": "code",
      "execution_count": 3,
      "metadata": {
        "colab": {
          "base_uri": "https://localhost:8080/"
        },
        "id": "grwssSfH9-ph",
        "outputId": "6eb4d0ef-27d5-4f72-eb6b-90df1b52b4fe"
      },
      "outputs": [
        {
          "name": "stdout",
          "output_type": "stream",
          "text": [
            "Dataset({\n",
            "    features: ['instruction', 'input', 'output', 'text'],\n",
            "    num_rows: 52002\n",
            "})\n"
          ]
        }
      ],
      "source": [
        "train_dataset = load_dataset(\"tatsu-lab/alpaca\", split=\"train\")\n",
        "\n",
        "print(train_dataset)"
      ]
    },
    {
      "cell_type": "code",
      "execution_count": 4,
      "metadata": {
        "colab": {
          "base_uri": "https://localhost:8080/",
          "height": 206
        },
        "id": "vTen1F55-Spe",
        "outputId": "93f50342-02b5-4c02-b47f-d77a6619a29c"
      },
      "outputs": [
        {
          "data": {
            "text/html": [
              "<div>\n",
              "<style scoped>\n",
              "    .dataframe tbody tr th:only-of-type {\n",
              "        vertical-align: middle;\n",
              "    }\n",
              "\n",
              "    .dataframe tbody tr th {\n",
              "        vertical-align: top;\n",
              "    }\n",
              "\n",
              "    .dataframe thead th {\n",
              "        text-align: right;\n",
              "    }\n",
              "</style>\n",
              "<table border=\"1\" class=\"dataframe\">\n",
              "  <thead>\n",
              "    <tr style=\"text-align: right;\">\n",
              "      <th></th>\n",
              "      <th>instruction</th>\n",
              "      <th>input</th>\n",
              "      <th>output</th>\n",
              "      <th>text</th>\n",
              "    </tr>\n",
              "  </thead>\n",
              "  <tbody>\n",
              "    <tr>\n",
              "      <th>0</th>\n",
              "      <td>Give three tips for staying healthy.</td>\n",
              "      <td></td>\n",
              "      <td>1.Eat a balanced diet and make sure to include...</td>\n",
              "      <td>Below is an instruction that describes a task....</td>\n",
              "    </tr>\n",
              "    <tr>\n",
              "      <th>1</th>\n",
              "      <td>What are the three primary colors?</td>\n",
              "      <td></td>\n",
              "      <td>The three primary colors are red, blue, and ye...</td>\n",
              "      <td>Below is an instruction that describes a task....</td>\n",
              "    </tr>\n",
              "    <tr>\n",
              "      <th>2</th>\n",
              "      <td>Describe the structure of an atom.</td>\n",
              "      <td></td>\n",
              "      <td>An atom is made up of a nucleus, which contain...</td>\n",
              "      <td>Below is an instruction that describes a task....</td>\n",
              "    </tr>\n",
              "    <tr>\n",
              "      <th>3</th>\n",
              "      <td>How can we reduce air pollution?</td>\n",
              "      <td></td>\n",
              "      <td>There are a number of ways to reduce air pollu...</td>\n",
              "      <td>Below is an instruction that describes a task....</td>\n",
              "    </tr>\n",
              "    <tr>\n",
              "      <th>4</th>\n",
              "      <td>Describe a time when you had to make a difficu...</td>\n",
              "      <td></td>\n",
              "      <td>I had to make a difficult decision when I was ...</td>\n",
              "      <td>Below is an instruction that describes a task....</td>\n",
              "    </tr>\n",
              "  </tbody>\n",
              "</table>\n",
              "</div>"
            ],
            "text/plain": [
              "                                         instruction input  \\\n",
              "0               Give three tips for staying healthy.         \n",
              "1                 What are the three primary colors?         \n",
              "2                 Describe the structure of an atom.         \n",
              "3                   How can we reduce air pollution?         \n",
              "4  Describe a time when you had to make a difficu...         \n",
              "\n",
              "                                              output  \\\n",
              "0  1.Eat a balanced diet and make sure to include...   \n",
              "1  The three primary colors are red, blue, and ye...   \n",
              "2  An atom is made up of a nucleus, which contain...   \n",
              "3  There are a number of ways to reduce air pollu...   \n",
              "4  I had to make a difficult decision when I was ...   \n",
              "\n",
              "                                                text  \n",
              "0  Below is an instruction that describes a task....  \n",
              "1  Below is an instruction that describes a task....  \n",
              "2  Below is an instruction that describes a task....  \n",
              "3  Below is an instruction that describes a task....  \n",
              "4  Below is an instruction that describes a task....  "
            ]
          },
          "metadata": {},
          "output_type": "display_data"
        }
      ],
      "source": [
        "# We can get the first five rows as follows\n",
        "pandas_format = train_dataset.to_pandas()\n",
        "display(pandas_format.head())"
      ]
    },
    {
      "cell_type": "code",
      "execution_count": 5,
      "metadata": {
        "colab": {
          "base_uri": "https://localhost:8080/"
        },
        "id": "Mc8euQ0mfcND",
        "outputId": "a03a94bc-327e-4f1d-ca89-f3030126e2a5"
      },
      "outputs": [
        {
          "name": "stdout",
          "output_type": "stream",
          "text": [
            "---------------------------------------------\n",
            "Instruction: Give three tips for staying healthy.\n",
            "Output: 1.Eat a balanced diet and make sure to include\n",
            "plenty of fruits and vegetables.  2. Exercise\n",
            "regularly to keep your body active and strong.  3.\n",
            "Get enough sleep and maintain a consistent sleep\n",
            "schedule.\n",
            "Text: Below is an instruction that describes a task.\n",
            "Write a response that appropriately completes the\n",
            "request.  ### Instruction: Give three tips for\n",
            "staying healthy.  ### Response: 1.Eat a balanced\n",
            "diet and make sure to include plenty of fruits and\n",
            "vegetables.  2. Exercise regularly to keep your\n",
            "body active and strong.  3. Get enough sleep and\n",
            "maintain a consistent sleep schedule.\n",
            "---------------------------------------------\n",
            "Instruction: What are the three primary colors?\n",
            "Output: The three primary colors are red, blue, and\n",
            "yellow.\n",
            "Text: Below is an instruction that describes a task.\n",
            "Write a response that appropriately completes the\n",
            "request.  ### Instruction: What are the three\n",
            "primary colors?  ### Response: The three primary\n",
            "colors are red, blue, and yellow.\n",
            "---------------------------------------------\n",
            "Instruction: Describe the structure of an atom.\n",
            "Output: An atom is made up of a nucleus, which contains\n",
            "protons and neutrons, surrounded by electrons that\n",
            "travel in orbits around the nucleus. The protons\n",
            "and neutrons have a positive charge, while the\n",
            "electrons have a negative charge, resulting in an\n",
            "overall neutral atom. The number of each particle\n",
            "determines the atomic number and the type of atom.\n",
            "Text: Below is an instruction that describes a task.\n",
            "Write a response that appropriately completes the\n",
            "request.  ### Instruction: Describe the structure\n",
            "of an atom.  ### Response: An atom is made up of a\n",
            "nucleus, which contains protons and neutrons,\n",
            "surrounded by electrons that travel in orbits\n",
            "around the nucleus. The protons and neutrons have\n",
            "a positive charge, while the electrons have a\n",
            "negative charge, resulting in an overall neutral\n",
            "atom. The number of each particle determines the\n",
            "atomic number and the type of atom.\n"
          ]
        }
      ],
      "source": [
        "import textwrap\n",
        "\n",
        "for index in range(3):\n",
        "  print(\"---\"*15)\n",
        "  print(\"Instruction: {}\".format(textwrap.fill(pandas_format.iloc[index][\"instruction\"], width=50)))\n",
        "  print(\"Output: {}\".format(textwrap.fill(pandas_format.iloc[index][\"output\"], width=50)))\n",
        "  print(\"Text: {}\".format(textwrap.fill(pandas_format.iloc[index][\"text\"], width=50)))"
      ]
    },
    {
      "cell_type": "code",
      "execution_count": 6,
      "metadata": {
        "colab": {
          "base_uri": "https://localhost:8080/",
          "height": 564
        },
        "id": "IxatV9qAodHi",
        "outputId": "3e70f8d8-b601-492e-dc28-46c4ba151806"
      },
      "outputs": [
        {
          "data": {
            "image/png": "[encoded data removed]",
            "text/plain": [
              "<Figure size 1000x600 with 1 Axes>"
            ]
          },
          "metadata": {},
          "output_type": "display_data"
        }
      ],
      "source": [
        "import matplotlib.pyplot as plt\n",
        "\n",
        "pandas_format['text_length'] = pandas_format['text'].apply(len)\n",
        "\n",
        "max_length = pandas_format['text_length'].max()\n",
        "\n",
        "plt.figure(figsize=(10,6))\n",
        "plt.hist(pandas_format['text_length'], bins=50, alpha=0.5, color='g')\n",
        "\n",
        "plt.annotate('Max length: {}'.format(max_length), xy=(max_length, 0), xytext=(max_length, 50),\n",
        "             arrowprops=dict(facecolor='red', shrink=0.05))\n",
        "\n",
        "plt.title('Distribution of Length of Text')\n",
        "plt.xlabel('Length of Text')\n",
        "plt.ylabel('Frequency')\n",
        "plt.grid(True)\n",
        "plt.show()"
      ]
    },
    {
      "cell_type": "code",
      "execution_count": 7,
      "metadata": {
        "colab": {
          "base_uri": "https://localhost:8080/"
        },
        "id": "bfievBoRqr3Z",
        "outputId": "ed9d9e30-14a3-4892-a644-ad33d701618e"
      },
      "outputs": [
        {
          "name": "stdout",
          "output_type": "stream",
          "text": [
            "The percentage of text documents with a length greater than 1024 is: 4.499826929733472%\n"
          ]
        }
      ],
      "source": [
        "mask = pandas_format['text_length'] > 1024\n",
        "percentage = (mask.sum() / pandas_format['text_length'].count()) * 100\n",
        "\n",
        "print(f\"The percentage of text documents with a length greater than 1024 is: {percentage}%\")"
      ]
    },
    {
      "cell_type": "markdown",
      "metadata": {
        "id": "iS9TmIEP6Pab"
      },
      "source": [
        "# Model Training Prerequisites"
      ]
    },
    {
      "cell_type": "markdown",
      "metadata": {
        "id": "IYKnXDPVAqf1"
      },
      "source": [
        "The following prerequisites are required for successfully training the model:\n",
        "- The t5 model is from Google.\n",
        "- Tokenizer: required for performing the tokenization tasks on the training data."
      ]
    },
    {
      "cell_type": "code",
      "execution_count": 8,
      "metadata": {
        "colab": {
          "base_uri": "https://localhost:8080/"
        },
        "id": "s6kCOeByQLz9",
        "outputId": "9b75684a-161e-4a0f-b8e4-d73694671cae"
      },
      "outputs": [
        {
          "name": "stderr",
          "output_type": "stream",
          "text": [
            "You are using the default legacy behaviour of the <class 'transformers.models.t5.tokenization_t5.T5Tokenizer'>. This is expected, and simply means that the `legacy` (previous) behavior will be used so nothing changes for you. If you want to use the new behaviour, set `legacy=False`. This should only be set if you understand what it means, and thouroughly read the reason why this was added as explained in https://github.com/huggingface/transformers/pull/24565\n",
            "Special tokens have been added in the vocabulary, make sure the associated word embeddings are fine-tuned or trained.\n"
          ]
        }
      ],
      "source": [
        "pretrained_model_name = \"t5-small\"\n",
        "tokenizer = T5Tokenizer.from_pretrained(pretrained_model_name)"
      ]
    },
    {
      "cell_type": "markdown",
      "metadata": {},
      "source": [
        "Use bfloat16 if your machine supports it"
      ]
    },
    {
      "cell_type": "code",
      "execution_count": 11,
      "metadata": {
        "colab": {
          "base_uri": "https://localhost:8080/",
          "height": 49,
          "referenced_widgets": [
            "775fe4ba645e474faa16f86a61002484",
            "00717ddfc8f3473da9b2ade9088080a2",
            "dc0491e879c04beb82889efa4276c649",
            "ae1b32b9b8b7447f94d9eb0e25485b2c",
            "5a321aadc673462d8d7b5ab53cb7d648",
            "3d9311b9e84945e3aa61ac4fd989bf09",
            "8871df29d7034762893acd1eb75b4fb1",
            "c6a69b9a349a4619908d961c3356fc49",
            "776ea640ebb0466ea437ec4cf9990e4b",
            "7cbc7625b2364d52904593af46659dde",
            "34361306b3a346a6bd6bf5b8f20a90a8"
          ]
        },
        "id": "RhE6gnF3QJnM",
        "outputId": "166bab11-defc-4a4e-99de-d5ab11853ea6"
      },
      "outputs": [],
      "source": [
        "model = T5ForConditionalGeneration.from_pretrained(pretrained_model_name, torch_dtype=torch.float32)"
      ]
    },
    {
      "cell_type": "code",
      "execution_count": 12,
      "metadata": {
        "id": "MzyK_HBUFPHa"
      },
      "outputs": [
        {
          "name": "stderr",
          "output_type": "stream",
          "text": [
            "/opt/homebrew/lib/python3.11/site-packages/transformers/optimization.py:411: FutureWarning: This implementation of AdamW is deprecated and will be removed in a future version. Use the PyTorch implementation torch.optim.AdamW instead, or set `no_deprecation_warning=True` to disable this warning\n",
            "  warnings.warn(\n"
          ]
        }
      ],
      "source": [
        "# Prepare your training data\n",
        "# This is a simplified example, you should replace this with your actual training data\n",
        "inputs = tokenizer(\"Hello, my name is GitHub Copilot.\", return_tensors=\"pt\")\n",
        "labels = tokenizer(\"Bonjour, je m'appelle GitHub Copilot.\", return_tensors=\"pt\").input_ids\n",
        "\n",
        "# Initialize LORA parameters\n",
        "# This is a simplified example, you should replace this with your actual LORA parameters\n",
        "lora_params = {\"alpha\": 0.99, \"top_p\": 0.75}\n",
        "\n",
        "# Train the model\n",
        "model.train()\n",
        "optimizer = AdamW(model.parameters())\n",
        "for _ in range(100):  # Train for 100 epochs\n",
        "    optimizer.zero_grad()\n",
        "    outputs = model(**inputs, labels=labels)\n",
        "    loss = outputs.loss\n",
        "    loss.backward()\n",
        "    optimizer.step()"
      ]
    }
  ],
  "metadata": {
    "accelerator": "TPU",
    "colab": {
      "gpuType": "T4",
      "machine_shape": "hm",
      "provenance": []
    },
    "kernelspec": {
      "display_name": "Python 3",
      "name": "python3"
    },
    "language_info": {
      "codemirror_mode": {
        "name": "ipython",
        "version": 3
      },
      "file_extension": ".py",
      "mimetype": "text/x-python",
      "name": "python",
      "nbconvert_exporter": "python",
      "pygments_lexer": "ipython3",
      "version": "3.11.6"
    },
    "widgets": {
      "application/vnd.jupyter.widget-state+json": {
        "00717ddfc8f3473da9b2ade9088080a2": {
          "model_module": "@jupyter-widgets/controls",
          "model_module_version": "1.5.0",
          "model_name": "HTMLModel",
          "state": {
            "_dom_classes": [],
            "_model_module": "@jupyter-widgets/controls",
            "_model_module_version": "1.5.0",
            "_model_name": "HTMLModel",
            "_view_count": null,
            "_view_module": "@jupyter-widgets/controls",
            "_view_module_version": "1.5.0",
            "_view_name": "HTMLView",
            "description": "",
            "description_tooltip": null,
            "layout": "IPY_MODEL_3d9311b9e84945e3aa61ac4fd989bf09",
            "placeholder": "​",
            "style": "IPY_MODEL_8871df29d7034762893acd1eb75b4fb1",
            "value": "Loading checkpoint shards: 100%"
          }
        },
        "34361306b3a346a6bd6bf5b8f20a90a8": {
          "model_module": "@jupyter-widgets/controls",
          "model_module_version": "1.5.0",
          "model_name": "DescriptionStyleModel",
          "state": {
            "_model_module": "@jupyter-widgets/controls",
            "_model_module_version": "1.5.0",
            "_model_name": "DescriptionStyleModel",
            "_view_count": null,
            "_view_module": "@jupyter-widgets/base",
            "_view_module_version": "1.2.0",
            "_view_name": "StyleView",
            "description_width": ""
          }
        },
        "3d9311b9e84945e3aa61ac4fd989bf09": {
          "model_module": "@jupyter-widgets/base",
          "model_module_version": "1.2.0",
          "model_name": "LayoutModel",
          "state": {
            "_model_module": "@jupyter-widgets/base",
            "_model_module_version": "1.2.0",
            "_model_name": "LayoutModel",
            "_view_count": null,
            "_view_module": "@jupyter-widgets/base",
            "_view_module_version": "1.2.0",
            "_view_name": "LayoutView",
            "align_content": null,
            "align_items": null,
            "align_self": null,
            "border": null,
            "bottom": null,
            "display": null,
            "flex": null,
            "flex_flow": null,
            "grid_area": null,
            "grid_auto_columns": null,
            "grid_auto_flow": null,
            "grid_auto_rows": null,
            "grid_column": null,
            "grid_gap": null,
            "grid_row": null,
            "grid_template_areas": null,
            "grid_template_columns": null,
            "grid_template_rows": null,
            "height": null,
            "justify_content": null,
            "justify_items": null,
            "left": null,
            "margin": null,
            "max_height": null,
            "max_width": null,
            "min_height": null,
            "min_width": null,
            "object_fit": null,
            "object_position": null,
            "order": null,
            "overflow": null,
            "overflow_x": null,
            "overflow_y": null,
            "padding": null,
            "right": null,
            "top": null,
            "visibility": null,
            "width": null
          }
        },
        "5a321aadc673462d8d7b5ab53cb7d648": {
          "model_module": "@jupyter-widgets/base",
          "model_module_version": "1.2.0",
          "model_name": "LayoutModel",
          "state": {
            "_model_module": "@jupyter-widgets/base",
            "_model_module_version": "1.2.0",
            "_model_name": "LayoutModel",
            "_view_count": null,
            "_view_module": "@jupyter-widgets/base",
            "_view_module_version": "1.2.0",
            "_view_name": "LayoutView",
            "align_content": null,
            "align_items": null,
            "align_self": null,
            "border": null,
            "bottom": null,
            "display": null,
            "flex": null,
            "flex_flow": null,
            "grid_area": null,
            "grid_auto_columns": null,
            "grid_auto_flow": null,
            "grid_auto_rows": null,
            "grid_column": null,
            "grid_gap": null,
            "grid_row": null,
            "grid_template_areas": null,
            "grid_template_columns": null,
            "grid_template_rows": null,
            "height": null,
            "justify_content": null,
            "justify_items": null,
            "left": null,
            "margin": null,
            "max_height": null,
            "max_width": null,
            "min_height": null,
            "min_width": null,
            "object_fit": null,
            "object_position": null,
            "order": null,
            "overflow": null,
            "overflow_x": null,
            "overflow_y": null,
            "padding": null,
            "right": null,
            "top": null,
            "visibility": null,
            "width": null
          }
        },
        "775fe4ba645e474faa16f86a61002484": {
          "model_module": "@jupyter-widgets/controls",
          "model_module_version": "1.5.0",
          "model_name": "HBoxModel",
          "state": {
            "_dom_classes": [],
            "_model_module": "@jupyter-widgets/controls",
            "_model_module_version": "1.5.0",
            "_model_name": "HBoxModel",
            "_view_count": null,
            "_view_module": "@jupyter-widgets/controls",
            "_view_module_version": "1.5.0",
            "_view_name": "HBoxView",
            "box_style": "",
            "children": [
              "IPY_MODEL_00717ddfc8f3473da9b2ade9088080a2",
              "IPY_MODEL_dc0491e879c04beb82889efa4276c649",
              "IPY_MODEL_ae1b32b9b8b7447f94d9eb0e25485b2c"
            ],
            "layout": "IPY_MODEL_5a321aadc673462d8d7b5ab53cb7d648"
          }
        },
        "776ea640ebb0466ea437ec4cf9990e4b": {
          "model_module": "@jupyter-widgets/controls",
          "model_module_version": "1.5.0",
          "model_name": "ProgressStyleModel",
          "state": {
            "_model_module": "@jupyter-widgets/controls",
            "_model_module_version": "1.5.0",
            "_model_name": "ProgressStyleModel",
            "_view_count": null,
            "_view_module": "@jupyter-widgets/base",
            "_view_module_version": "1.2.0",
            "_view_name": "StyleView",
            "bar_color": null,
            "description_width": ""
          }
        },
        "7cbc7625b2364d52904593af46659dde": {
          "model_module": "@jupyter-widgets/base",
          "model_module_version": "1.2.0",
          "model_name": "LayoutModel",
          "state": {
            "_model_module": "@jupyter-widgets/base",
            "_model_module_version": "1.2.0",
            "_model_name": "LayoutModel",
            "_view_count": null,
            "_view_module": "@jupyter-widgets/base",
            "_view_module_version": "1.2.0",
            "_view_name": "LayoutView",
            "align_content": null,
            "align_items": null,
            "align_self": null,
            "border": null,
            "bottom": null,
            "display": null,
            "flex": null,
            "flex_flow": null,
            "grid_area": null,
            "grid_auto_columns": null,
            "grid_auto_flow": null,
            "grid_auto_rows": null,
            "grid_column": null,
            "grid_gap": null,
            "grid_row": null,
            "grid_template_areas": null,
            "grid_template_columns": null,
            "grid_template_rows": null,
            "height": null,
            "justify_content": null,
            "justify_items": null,
            "left": null,
            "margin": null,
            "max_height": null,
            "max_width": null,
            "min_height": null,
            "min_width": null,
            "object_fit": null,
            "object_position": null,
            "order": null,
            "overflow": null,
            "overflow_x": null,
            "overflow_y": null,
            "padding": null,
            "right": null,
            "top": null,
            "visibility": null,
            "width": null
          }
        },
        "8871df29d7034762893acd1eb75b4fb1": {
          "model_module": "@jupyter-widgets/controls",
          "model_module_version": "1.5.0",
          "model_name": "DescriptionStyleModel",
          "state": {
            "_model_module": "@jupyter-widgets/controls",
            "_model_module_version": "1.5.0",
            "_model_name": "DescriptionStyleModel",
            "_view_count": null,
            "_view_module": "@jupyter-widgets/base",
            "_view_module_version": "1.2.0",
            "_view_name": "StyleView",
            "description_width": ""
          }
        },
        "ae1b32b9b8b7447f94d9eb0e25485b2c": {
          "model_module": "@jupyter-widgets/controls",
          "model_module_version": "1.5.0",
          "model_name": "HTMLModel",
          "state": {
            "_dom_classes": [],
            "_model_module": "@jupyter-widgets/controls",
            "_model_module_version": "1.5.0",
            "_model_name": "HTMLModel",
            "_view_count": null,
            "_view_module": "@jupyter-widgets/controls",
            "_view_module_version": "1.5.0",
            "_view_name": "HTMLView",
            "description": "",
            "description_tooltip": null,
            "layout": "IPY_MODEL_7cbc7625b2364d52904593af46659dde",
            "placeholder": "​",
            "style": "IPY_MODEL_34361306b3a346a6bd6bf5b8f20a90a8",
            "value": " 3/3 [02:14&lt;00:00, 43.28s/it]"
          }
        },
        "c6a69b9a349a4619908d961c3356fc49": {
          "model_module": "@jupyter-widgets/base",
          "model_module_version": "1.2.0",
          "model_name": "LayoutModel",
          "state": {
            "_model_module": "@jupyter-widgets/base",
            "_model_module_version": "1.2.0",
            "_model_name": "LayoutModel",
            "_view_count": null,
            "_view_module": "@jupyter-widgets/base",
            "_view_module_version": "1.2.0",
            "_view_name": "LayoutView",
            "align_content": null,
            "align_items": null,
            "align_self": null,
            "border": null,
            "bottom": null,
            "display": null,
            "flex": null,
            "flex_flow": null,
            "grid_area": null,
            "grid_auto_columns": null,
            "grid_auto_flow": null,
            "grid_auto_rows": null,
            "grid_column": null,
            "grid_gap": null,
            "grid_row": null,
            "grid_template_areas": null,
            "grid_template_columns": null,
            "grid_template_rows": null,
            "height": null,
            "justify_content": null,
            "justify_items": null,
            "left": null,
            "margin": null,
            "max_height": null,
            "max_width": null,
            "min_height": null,
            "min_width": null,
            "object_fit": null,
            "object_position": null,
            "order": null,
            "overflow": null,
            "overflow_x": null,
            "overflow_y": null,
            "padding": null,
            "right": null,
            "top": null,
            "visibility": null,
            "width": null
          }
        },
        "dc0491e879c04beb82889efa4276c649": {
          "model_module": "@jupyter-widgets/controls",
          "model_module_version": "1.5.0",
          "model_name": "FloatProgressModel",
          "state": {
            "_dom_classes": [],
            "_model_module": "@jupyter-widgets/controls",
            "_model_module_version": "1.5.0",
            "_model_name": "FloatProgressModel",
            "_view_count": null,
            "_view_module": "@jupyter-widgets/controls",
            "_view_module_version": "1.5.0",
            "_view_name": "ProgressView",
            "bar_style": "success",
            "description": "",
            "description_tooltip": null,
            "layout": "IPY_MODEL_c6a69b9a349a4619908d961c3356fc49",
            "max": 3,
            "min": 0,
            "orientation": "horizontal",
            "style": "IPY_MODEL_776ea640ebb0466ea437ec4cf9990e4b",
            "value": 3
          }
        }
      }
    }
  },
  "nbformat": 4,
  "nbformat_minor": 0
}
